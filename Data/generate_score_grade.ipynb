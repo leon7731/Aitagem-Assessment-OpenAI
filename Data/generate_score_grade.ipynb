{
 "cells": [
  {
   "cell_type": "code",
   "execution_count": 5,
   "metadata": {},
   "outputs": [],
   "source": [
    "import pandas as pd"
   ]
  },
  {
   "cell_type": "code",
   "execution_count": 6,
   "metadata": {},
   "outputs": [],
   "source": [
    "# Create a dictionary that contains the score grade and the corresponding grade and overall CGPA\n",
    "# Reference: https://www.infoupu.com/cara-kira-pointer-stpm-ngmp-pngk/\n",
    "\n",
    "score_grade = {\n",
    "    \"marks\": [\"80-100\", \"75-79\", \"70-74\", \"65-69\", \"60-64\", \"55-59\", \"50-54\", \"45-49\", \"40-44\", \"30-39\", \"0-29\"],\n",
    "    \"grade\": [\"A\", \"A-\", \"B+\", \"B\", \"B-\", \"C+\", \"C\", \"C-\", \"D+\", \"D\", \"F\"],\n",
    "    \"overall_cgpa\": [4.00, 3.67, 3.33, 3.00, 2.67, 2.33, 2.00, 1.67, 1.33, 1.00, 0.00]\n",
    "          \n",
    "}\n",
    "\n",
    "# Convert the dictionary to a DataFrame\n",
    "df = pd.DataFrame(score_grade)\n",
    "\n",
    "df.to_csv(\"score_grade.csv\", index=False)"
   ]
  }
 ],
 "metadata": {
  "kernelspec": {
   "display_name": "venv",
   "language": "python",
   "name": "python3"
  },
  "language_info": {
   "codemirror_mode": {
    "name": "ipython",
    "version": 3
   },
   "file_extension": ".py",
   "mimetype": "text/x-python",
   "name": "python",
   "nbconvert_exporter": "python",
   "pygments_lexer": "ipython3",
   "version": "3.12.1"
  }
 },
 "nbformat": 4,
 "nbformat_minor": 2
}
