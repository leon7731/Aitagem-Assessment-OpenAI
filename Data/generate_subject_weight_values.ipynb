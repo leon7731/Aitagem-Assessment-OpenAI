{
 "cells": [
  {
   "cell_type": "code",
   "execution_count": 7,
   "metadata": {},
   "outputs": [],
   "source": [
    "import pandas as pd"
   ]
  },
  {
   "cell_type": "code",
   "execution_count": 8,
   "metadata": {},
   "outputs": [],
   "source": [
    "# Weighted Value of Each Subject\n",
    "# Reference:\n",
    "# https://www.infoupu.com/cara-kira-pointer-stpm-ngmp-pngk/ \n",
    "# https://iceclue.com/calculator/#/\n",
    "\n",
    "\n",
    "subject_weight_values = {\n",
    "    \"communications_technology_sem1_subject_weight_value\": 20,\n",
    "    \"communications_technology_sem2_subject_weight_value\": 20,\n",
    "    \"communications_technology_sem3_subject_weight_value\": 20,\n",
    "    \"communications_technology_coursework_weight_value(KK)\": 40,\n",
    "    \n",
    "    \"chemistry_sem1_subject_weight_value\": 26.67,\n",
    "    \"chemistry_sem2_subject_weight_value\": 26.67,\n",
    "    \"chemistry_sem3_subject_weight_value\": 26.67,\n",
    "    \"chemistry_coursework_weight_value(KK)\": 20,\n",
    "    \n",
    "    \"biology_sem1_subject_weight_value\": 26.67,\n",
    "    \"biology_sem2_subject_weight_value\": 26.67,\n",
    "    \"biology_sem3_subject_weight_value\": 26.67,\n",
    "    \"biology_coursework_weight_value(KK)\": 20,\n",
    "    \n",
    "    \"general_studies_sem1_subject_weight_value\": 29,\n",
    "    \"general_studies_sem2_subject_weight_value\": 22,\n",
    "    \"general_studies_sem3_subject_weight_value\": 29,\n",
    "    \"general_studies_coursework_weight_value(KK)\": 20,\n",
    "    \n",
    "}\n",
    "\n",
    "# Convert the dictionary to a DataFrame\n",
    "df = pd.DataFrame([subject_weight_values])\n",
    "\n",
    "df.to_csv(\"subject_weight_values.csv\", index=False)"
   ]
  }
 ],
 "metadata": {
  "kernelspec": {
   "display_name": "venv",
   "language": "python",
   "name": "python3"
  },
  "language_info": {
   "codemirror_mode": {
    "name": "ipython",
    "version": 3
   },
   "file_extension": ".py",
   "mimetype": "text/x-python",
   "name": "python",
   "nbconvert_exporter": "python",
   "pygments_lexer": "ipython3",
   "version": "3.12.1"
  }
 },
 "nbformat": 4,
 "nbformat_minor": 2
}
