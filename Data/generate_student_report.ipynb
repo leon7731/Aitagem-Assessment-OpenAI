{
 "cells": [
  {
   "cell_type": "code",
   "execution_count": 1,
   "metadata": {},
   "outputs": [],
   "source": [
    "import pandas as pd"
   ]
  },
  {
   "cell_type": "code",
   "execution_count": 2,
   "metadata": {},
   "outputs": [],
   "source": [
    "# student_report = {\n",
    "#     \"student_name\": \"Lingges\",\n",
    "#     \"student_current_semester\": 2,\n",
    "    \n",
    "#     \"communications_technology_sem1_subject_grade\": 85,\n",
    "#     \"communications_technology_sem2_subject_grade\": 80,\n",
    "#     \"communications_technology_sem3_subject_grade\": 70,\n",
    "#     \"communications_ technology_coursework_grade\": 90,\n",
    "    \n",
    "#     \"chemistry_sem1_subject_grade\": 85,\n",
    "#     \"chemistry_sem2_subject_grade\": 80,\n",
    "#     \"chemistry_sem3_subject_grade\": 87,\n",
    "#     \"chemistry_coursework_grade\": 90,\n",
    "    \n",
    "#     \"biology_sem1_subject_grade\": 85,\n",
    "#     \"biology_sem2_subject_grade\": 70,\n",
    "#     \"biology_sem3_subject_grade\": 65,\n",
    "#     \"biology_coursework_grade\": 85,\n",
    "    \n",
    "#     \"general_studies_sem1_subject_grade\": 75,\n",
    "#     \"general_studies_sem2_subject_grade\": 70,\n",
    "#     \"general_studies_sem3_subject_grade\": 62,\n",
    "#     \"general_studies_coursework_grade\": 80,\n",
    "    \n",
    "    \n",
    "#     \"sports_achievement\": \"national karate heavy weight 2 ranking, school representative for soccer and cricket\"\n",
    "       \n",
    "# }\n",
    "\n",
    "# # Convert the dictionary to a DataFrame\n",
    "# df = pd.DataFrame([student_report])\n",
    "\n",
    "# df.to_csv(\"student_report_1.csv\", index=False)"
   ]
  },
  {
   "cell_type": "code",
   "execution_count": 3,
   "metadata": {},
   "outputs": [],
   "source": [
    "student_report = {\n",
    "    \"student_name\": \"Lingges\",\n",
    "    \"student_current_semester\": 2,\n",
    "    \n",
    "    \"communications_technology_sem1_subject_grade\": 85,\n",
    "    \"communications_technology_sem2_subject_grade\": 80,\n",
    "    \"communications_ technology_coursework_grade\": 90,\n",
    "    \n",
    "    \"chemistry_sem1_subject_grade\": 85,\n",
    "    \"chemistry_sem2_subject_grade\": 80,\n",
    "    \"chemistry_coursework_grade\": 90,\n",
    "    \n",
    "    \"biology_sem1_subject_grade\": 85,\n",
    "    \"biology_sem2_subject_grade\": 70,\n",
    "    \"biology_coursework_grade\": 85,\n",
    "    \n",
    "    \"general_studies_sem1_subject_grade\": 75,\n",
    "    \"general_studies_sem2_subject_grade\": 70,\n",
    "    \"general_studies_coursework_grade\": 80,\n",
    "    \n",
    "    \n",
    "    \"sports_achievement\": \"national karate heavy weight 2 ranking, school representative for soccer and cricket\"\n",
    "       \n",
    "}\n",
    "\n",
    "# Convert the dictionary to a DataFrame\n",
    "df = pd.DataFrame([student_report])\n",
    "\n",
    "df.to_csv(\"student_report_1.csv\", index=False)"
   ]
  },
  {
   "cell_type": "code",
   "execution_count": 4,
   "metadata": {},
   "outputs": [],
   "source": [
    "# student_name: Lingges\n",
    "\n",
    "# student_current_semester: 2\n",
    "\n",
    "# chemistry_sem1_subject_grade: 85"
   ]
  }
 ],
 "metadata": {
  "kernelspec": {
   "display_name": "venv",
   "language": "python",
   "name": "python3"
  },
  "language_info": {
   "codemirror_mode": {
    "name": "ipython",
    "version": 3
   },
   "file_extension": ".py",
   "mimetype": "text/x-python",
   "name": "python",
   "nbconvert_exporter": "python",
   "pygments_lexer": "ipython3",
   "version": "3.12.1"
  }
 },
 "nbformat": 4,
 "nbformat_minor": 2
}
